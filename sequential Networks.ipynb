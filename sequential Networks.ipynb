{
 "cells": [
  {
   "cell_type": "markdown",
   "id": "1d38ae99",
   "metadata": {},
   "source": [
    "# Installing and importing required libraries"
   ]
  },
  {
   "cell_type": "code",
   "execution_count": 1,
   "id": "a7386078",
   "metadata": {},
   "outputs": [],
   "source": [
    "#import tensorflow as tf"
   ]
  },
  {
   "cell_type": "code",
   "execution_count": 2,
   "id": "19effb09",
   "metadata": {},
   "outputs": [],
   "source": [
    "#pip install pandas\n"
   ]
  },
  {
   "cell_type": "code",
   "execution_count": 3,
   "id": "b8602e78",
   "metadata": {},
   "outputs": [],
   "source": [
    "#pip install numpy\n"
   ]
  },
  {
   "cell_type": "code",
   "execution_count": 4,
   "id": "a368df51",
   "metadata": {},
   "outputs": [],
   "source": [
    "#pip install matplotlib\n"
   ]
  },
  {
   "cell_type": "code",
   "execution_count": 5,
   "id": "9d874f39",
   "metadata": {},
   "outputs": [],
   "source": [
    "#pip install seaborn\n"
   ]
  },
  {
   "cell_type": "code",
   "execution_count": 6,
   "id": "fd3fe923",
   "metadata": {},
   "outputs": [],
   "source": [
    "#pip install -U scikit-learn\n"
   ]
  },
  {
   "cell_type": "code",
   "execution_count": 7,
   "id": "05823eb9",
   "metadata": {},
   "outputs": [],
   "source": [
    "#conda install -c conda-forge nomkl"
   ]
  },
  {
   "cell_type": "code",
   "execution_count": 8,
   "id": "8f44c7f5",
   "metadata": {},
   "outputs": [
    {
     "name": "stderr",
     "output_type": "stream",
     "text": [
      "C:\\Users\\steph\\anaconda3\\envs\\tensor\\lib\\site-packages\\tensorflow\\python\\framework\\dtypes.py:516: FutureWarning: Passing (type, 1) or '1type' as a synonym of type is deprecated; in a future version of numpy, it will be understood as (type, (1,)) / '(1,)type'.\n",
      "  _np_qint8 = np.dtype([(\"qint8\", np.int8, 1)])\n",
      "C:\\Users\\steph\\anaconda3\\envs\\tensor\\lib\\site-packages\\tensorflow\\python\\framework\\dtypes.py:517: FutureWarning: Passing (type, 1) or '1type' as a synonym of type is deprecated; in a future version of numpy, it will be understood as (type, (1,)) / '(1,)type'.\n",
      "  _np_quint8 = np.dtype([(\"quint8\", np.uint8, 1)])\n",
      "C:\\Users\\steph\\anaconda3\\envs\\tensor\\lib\\site-packages\\tensorflow\\python\\framework\\dtypes.py:518: FutureWarning: Passing (type, 1) or '1type' as a synonym of type is deprecated; in a future version of numpy, it will be understood as (type, (1,)) / '(1,)type'.\n",
      "  _np_qint16 = np.dtype([(\"qint16\", np.int16, 1)])\n",
      "C:\\Users\\steph\\anaconda3\\envs\\tensor\\lib\\site-packages\\tensorflow\\python\\framework\\dtypes.py:519: FutureWarning: Passing (type, 1) or '1type' as a synonym of type is deprecated; in a future version of numpy, it will be understood as (type, (1,)) / '(1,)type'.\n",
      "  _np_quint16 = np.dtype([(\"quint16\", np.uint16, 1)])\n",
      "C:\\Users\\steph\\anaconda3\\envs\\tensor\\lib\\site-packages\\tensorflow\\python\\framework\\dtypes.py:520: FutureWarning: Passing (type, 1) or '1type' as a synonym of type is deprecated; in a future version of numpy, it will be understood as (type, (1,)) / '(1,)type'.\n",
      "  _np_qint32 = np.dtype([(\"qint32\", np.int32, 1)])\n",
      "C:\\Users\\steph\\anaconda3\\envs\\tensor\\lib\\site-packages\\tensorflow\\python\\framework\\dtypes.py:525: FutureWarning: Passing (type, 1) or '1type' as a synonym of type is deprecated; in a future version of numpy, it will be understood as (type, (1,)) / '(1,)type'.\n",
      "  np_resource = np.dtype([(\"resource\", np.ubyte, 1)])\n",
      "C:\\Users\\steph\\anaconda3\\envs\\tensor\\lib\\site-packages\\tensorboard\\compat\\tensorflow_stub\\dtypes.py:541: FutureWarning: Passing (type, 1) or '1type' as a synonym of type is deprecated; in a future version of numpy, it will be understood as (type, (1,)) / '(1,)type'.\n",
      "  _np_qint8 = np.dtype([(\"qint8\", np.int8, 1)])\n",
      "C:\\Users\\steph\\anaconda3\\envs\\tensor\\lib\\site-packages\\tensorboard\\compat\\tensorflow_stub\\dtypes.py:542: FutureWarning: Passing (type, 1) or '1type' as a synonym of type is deprecated; in a future version of numpy, it will be understood as (type, (1,)) / '(1,)type'.\n",
      "  _np_quint8 = np.dtype([(\"quint8\", np.uint8, 1)])\n",
      "C:\\Users\\steph\\anaconda3\\envs\\tensor\\lib\\site-packages\\tensorboard\\compat\\tensorflow_stub\\dtypes.py:543: FutureWarning: Passing (type, 1) or '1type' as a synonym of type is deprecated; in a future version of numpy, it will be understood as (type, (1,)) / '(1,)type'.\n",
      "  _np_qint16 = np.dtype([(\"qint16\", np.int16, 1)])\n",
      "C:\\Users\\steph\\anaconda3\\envs\\tensor\\lib\\site-packages\\tensorboard\\compat\\tensorflow_stub\\dtypes.py:544: FutureWarning: Passing (type, 1) or '1type' as a synonym of type is deprecated; in a future version of numpy, it will be understood as (type, (1,)) / '(1,)type'.\n",
      "  _np_quint16 = np.dtype([(\"quint16\", np.uint16, 1)])\n",
      "C:\\Users\\steph\\anaconda3\\envs\\tensor\\lib\\site-packages\\tensorboard\\compat\\tensorflow_stub\\dtypes.py:545: FutureWarning: Passing (type, 1) or '1type' as a synonym of type is deprecated; in a future version of numpy, it will be understood as (type, (1,)) / '(1,)type'.\n",
      "  _np_qint32 = np.dtype([(\"qint32\", np.int32, 1)])\n",
      "C:\\Users\\steph\\anaconda3\\envs\\tensor\\lib\\site-packages\\tensorboard\\compat\\tensorflow_stub\\dtypes.py:550: FutureWarning: Passing (type, 1) or '1type' as a synonym of type is deprecated; in a future version of numpy, it will be understood as (type, (1,)) / '(1,)type'.\n",
      "  np_resource = np.dtype([(\"resource\", np.ubyte, 1)])\n"
     ]
    }
   ],
   "source": [
    "import tensorflow as tf\n",
    "from tensorflow import keras\n",
    "import pandas as pd\n",
    "import numpy as np\n",
    "import matplotlib.pyplot as plt"
   ]
  },
  {
   "cell_type": "code",
   "execution_count": 9,
   "id": "3f611b66",
   "metadata": {},
   "outputs": [],
   "source": [
    "fashion=keras.datasets.fashion_mnist"
   ]
  },
  {
   "cell_type": "code",
   "execution_count": 10,
   "id": "6e92ff92",
   "metadata": {},
   "outputs": [],
   "source": [
    "(X_train,y_train),(X_test,y_test) = fashion.load_data()"
   ]
  },
  {
   "cell_type": "code",
   "execution_count": 11,
   "id": "494862b0",
   "metadata": {},
   "outputs": [
    {
     "data": {
      "text/plain": [
       "(60000, 28, 28)"
      ]
     },
     "execution_count": 11,
     "metadata": {},
     "output_type": "execute_result"
    }
   ],
   "source": [
    "X_train.shape"
   ]
  },
  {
   "cell_type": "code",
   "execution_count": 12,
   "id": "5d9de92d",
   "metadata": {},
   "outputs": [
    {
     "data": {
      "text/plain": [
       "(60000,)"
      ]
     },
     "execution_count": 12,
     "metadata": {},
     "output_type": "execute_result"
    }
   ],
   "source": [
    "y_train.shape"
   ]
  },
  {
   "cell_type": "code",
   "execution_count": 13,
   "id": "5978fcb7",
   "metadata": {},
   "outputs": [
    {
     "data": {
      "text/plain": [
       "(10000, 28, 28)"
      ]
     },
     "execution_count": 13,
     "metadata": {},
     "output_type": "execute_result"
    }
   ],
   "source": [
    "X_test.shape"
   ]
  },
  {
   "cell_type": "code",
   "execution_count": 14,
   "id": "3710182b",
   "metadata": {},
   "outputs": [],
   "source": [
    "# optimize the model with much higher accuracy, \n",
    "#as they are currently ranging from 0 to 255 corresponding to rgb values\n",
    "X_train=X_train.astype('float32')/255\n",
    "X_test=X_test.astype('float')/255"
   ]
  },
  {
   "cell_type": "code",
   "execution_count": 15,
   "id": "273041c7",
   "metadata": {},
   "outputs": [
    {
     "data": {
      "text/plain": [
       "array([9, 0, 0, ..., 3, 0, 5], dtype=uint8)"
      ]
     },
     "execution_count": 15,
     "metadata": {},
     "output_type": "execute_result"
    }
   ],
   "source": [
    "y_train"
   ]
  },
  {
   "cell_type": "code",
   "execution_count": 16,
   "id": "251e83b9",
   "metadata": {},
   "outputs": [
    {
     "data": {
      "text/plain": [
       "['T-shirt/top',\n",
       " 'Trouser',\n",
       " 'pullover',\n",
       " 'dress',\n",
       " 'coat',\n",
       " 'sandal',\n",
       " 'shirt',\n",
       " 'sneaker',\n",
       " 'bag',\n",
       " 'ankle boot']"
      ]
     },
     "execution_count": 16,
     "metadata": {},
     "output_type": "execute_result"
    }
   ],
   "source": [
    "class_name = ['T-shirt/top',\n",
    "              'Trouser',\n",
    "              'pullover',\n",
    "              'dress',\n",
    "             'coat',\n",
    "             'sandal',\n",
    "             'shirt',\n",
    "             'sneaker',\n",
    "             'bag',\n",
    "             'ankle boot']\n",
    "class_name"
   ]
  },
  {
   "cell_type": "code",
   "execution_count": 17,
   "id": "488e1199",
   "metadata": {},
   "outputs": [
    {
     "data": {
      "text/plain": [
       "9"
      ]
     },
     "execution_count": 17,
     "metadata": {},
     "output_type": "execute_result"
    }
   ],
   "source": [
    "y_train[0]"
   ]
  },
  {
   "cell_type": "code",
   "execution_count": 18,
   "id": "e96ff5b0",
   "metadata": {},
   "outputs": [
    {
     "data": {
      "text/plain": [
       "'ankle boot'"
      ]
     },
     "execution_count": 18,
     "metadata": {},
     "output_type": "execute_result"
    }
   ],
   "source": [
    "class_name[y_train[0]]"
   ]
  },
  {
   "cell_type": "code",
   "execution_count": 19,
   "id": "16362242",
   "metadata": {},
   "outputs": [
    {
     "data": {
      "text/plain": [
       "<matplotlib.image.AxesImage at 0x1ef357a5e10>"
      ]
     },
     "execution_count": 19,
     "metadata": {},
     "output_type": "execute_result"
    },
    {
     "data": {
      "image/png": "[encoded data removed]",
      "text/plain": [
       "<Figure size 640x480 with 1 Axes>"
      ]
     },
     "metadata": {},
     "output_type": "display_data"
    }
   ],
   "source": [
    "plt.imshow(X_train[0],cmap='gray')"
   ]
  },
  {
   "cell_type": "code",
   "execution_count": 20,
   "id": "5e8cc09b",
   "metadata": {},
   "outputs": [
    {
     "name": "stdout",
     "output_type": "stream",
     "text": [
      "The label for this image isTrouser\n"
     ]
    },
    {
     "data": {
      "image/png": "[encoded data removed]",
      "text/plain": [
       "<Figure size 640x480 with 1 Axes>"
      ]
     },
     "metadata": {},
     "output_type": "display_data"
    }
   ],
   "source": [
    "from random import randrange\n",
    "item=randrange(60000)\n",
    "\n",
    "plt.imshow(X_train[item],cmap='gray')\n",
    "print(\"The label for this image is\" + str(class_name[y_train[item]]))"
   ]
  },
  {
   "cell_type": "code",
   "execution_count": 21,
   "id": "88c3909f",
   "metadata": {},
   "outputs": [
    {
     "name": "stdout",
     "output_type": "stream",
     "text": [
      "WARNING:tensorflow:From C:\\Users\\steph\\anaconda3\\envs\\tensor\\lib\\site-packages\\tensorflow\\python\\ops\\init_ops.py:1251: calling VarianceScaling.__init__ (from tensorflow.python.ops.init_ops) with dtype is deprecated and will be removed in a future version.\n",
      "Instructions for updating:\n",
      "Call initializer instance with the dtype argument instead of passing it to the constructor\n"
     ]
    }
   ],
   "source": [
    "SNN=keras.models.Sequential()\n",
    "# in the first layer, we need 28*28 = 784 nodes\n",
    "SNN.add(keras.layers.Flatten(input_shape=[28,28]))\n",
    "SNN.add(keras.layers.Dense(300,activation=\"relu\")) # Rectified Linear Unit: The prontal after Dense should be number of nodes of inputs\n",
    "SNN.add(keras.layers.Dense(100,activation=\"relu\"))# Second layer added\n",
    "SNN.add(keras.layers.Dense(10,activation=\"softmax\"))# Output layer with 10 outputs that we need to classify"
   ]
  },
  {
   "cell_type": "code",
   "execution_count": 22,
   "id": "ffcc8a77",
   "metadata": {},
   "outputs": [
    {
     "name": "stdout",
     "output_type": "stream",
     "text": [
      "Model: \"sequential\"\n",
      "_________________________________________________________________\n",
      "Layer (type)                 Output Shape              Param #   \n",
      "=================================================================\n",
      "flatten (Flatten)            (None, 784)               0         \n",
      "_________________________________________________________________\n",
      "dense (Dense)                (None, 300)               235500    \n",
      "_________________________________________________________________\n",
      "dense_1 (Dense)              (None, 100)               30100     \n",
      "_________________________________________________________________\n",
      "dense_2 (Dense)              (None, 10)                1010      \n",
      "=================================================================\n",
      "Total params: 266,610\n",
      "Trainable params: 266,610\n",
      "Non-trainable params: 0\n",
      "_________________________________________________________________\n"
     ]
    }
   ],
   "source": [
    "SNN.summary()"
   ]
  },
  {
   "cell_type": "code",
   "execution_count": 23,
   "id": "deed7279",
   "metadata": {},
   "outputs": [
    {
     "data": {
      "text/plain": [
       "[<tensorflow.python.keras.layers.core.Flatten at 0x1ef3786e4e0>,\n",
       " <tensorflow.python.keras.layers.core.Dense at 0x1ef325a9be0>,\n",
       " <tensorflow.python.keras.layers.core.Dense at 0x1ef3787c7b8>,\n",
       " <tensorflow.python.keras.layers.core.Dense at 0x1ef3787cb38>]"
      ]
     },
     "execution_count": 23,
     "metadata": {},
     "output_type": "execute_result"
    }
   ],
   "source": [
    "SNN.layers"
   ]
  },
  {
   "cell_type": "code",
   "execution_count": 24,
   "id": "7f892e6a",
   "metadata": {},
   "outputs": [],
   "source": [
    "hidden1 = SNN.layers[1]"
   ]
  },
  {
   "cell_type": "code",
   "execution_count": 25,
   "id": "b36a1d69",
   "metadata": {},
   "outputs": [
    {
     "data": {
      "text/plain": [
       "array([[-0.03308317, -0.05531466, -0.02427507, ..., -0.02801345,\n",
       "        -0.04670569, -0.0195883 ],\n",
       "       [-0.02770342, -0.02456238, -0.06425497, ..., -0.01464936,\n",
       "        -0.05556959, -0.0169101 ],\n",
       "       [-0.00139569,  0.04890883,  0.0227638 , ..., -0.04858377,\n",
       "         0.02163523, -0.00072044],\n",
       "       ...,\n",
       "       [ 0.0562031 ,  0.07366788,  0.02913879, ...,  0.03166641,\n",
       "         0.04195946, -0.02431457],\n",
       "       [ 0.03474554,  0.02431968, -0.06823403, ...,  0.05405933,\n",
       "        -0.06799836, -0.03408302],\n",
       "       [ 0.0422651 ,  0.05945006,  0.07374491, ..., -0.01944026,\n",
       "        -0.0358686 , -0.00079822]], dtype=float32)"
      ]
     },
     "execution_count": 25,
     "metadata": {},
     "output_type": "execute_result"
    }
   ],
   "source": [
    "weights,biases = hidden1.get_weights()\n",
    "biases\n",
    "weights"
   ]
  },
  {
   "cell_type": "code",
   "execution_count": 26,
   "id": "d0fc8fe3",
   "metadata": {},
   "outputs": [],
   "source": [
    "SNN.compile(loss=\"sparse_categorical_crossentropy\",\n",
    "              optimizer=\"sgd\",\n",
    "              metrics=[\"accuracy\"])\n"
   ]
  },
  {
   "cell_type": "code",
   "execution_count": 27,
   "id": "2bfb6919",
   "metadata": {},
   "outputs": [
    {
     "name": "stdout",
     "output_type": "stream",
     "text": [
      "Epoch 1/10\n",
      "60000/60000 [==============================] - 2s 25us/sample - loss: 0.7055 - acc: 0.7682\n",
      "Epoch 2/10\n",
      "60000/60000 [==============================] - 1s 25us/sample - loss: 0.4790 - acc: 0.8349\n",
      "Epoch 3/10\n",
      "60000/60000 [==============================] - 1s 25us/sample - loss: 0.4353 - acc: 0.8475\n",
      "Epoch 4/10\n",
      "60000/60000 [==============================] - 1s 24us/sample - loss: 0.4078 - acc: 0.8574\n",
      "Epoch 5/10\n",
      "60000/60000 [==============================] - 1s 25us/sample - loss: 0.3883 - acc: 0.8638\n",
      "Epoch 6/10\n",
      "60000/60000 [==============================] - 1s 25us/sample - loss: 0.3717 - acc: 0.8701\n",
      "Epoch 7/10\n",
      "60000/60000 [==============================] - 1s 25us/sample - loss: 0.3583 - acc: 0.8732\n",
      "Epoch 8/10\n",
      "60000/60000 [==============================] - 2s 26us/sample - loss: 0.3475 - acc: 0.8766\n",
      "Epoch 9/10\n",
      "60000/60000 [==============================] - 2s 26us/sample - loss: 0.3377 - acc: 0.8788\n",
      "Epoch 10/10\n",
      "60000/60000 [==============================] - 1s 24us/sample - loss: 0.3268 - acc: 0.8834\n"
     ]
    }
   ],
   "source": [
    "history=SNN.fit(X_train,y_train,epochs=10)"
   ]
  },
  {
   "cell_type": "code",
   "execution_count": 28,
   "id": "83ea69db",
   "metadata": {},
   "outputs": [
    {
     "name": "stdout",
     "output_type": "stream",
     "text": [
      "10000/10000 [==============================] - 0s 16us/sample - loss: 0.3889 - acc: 0.8619\n"
     ]
    },
    {
     "data": {
      "text/plain": [
       "[0.3889450665950775, 0.8619]"
      ]
     },
     "execution_count": 28,
     "metadata": {},
     "output_type": "execute_result"
    }
   ],
   "source": [
    "SNN.evaluate(X_test,y_test)"
   ]
  },
  {
   "cell_type": "code",
   "execution_count": 29,
   "id": "e5f1be1b",
   "metadata": {},
   "outputs": [
    {
     "data": {
      "text/plain": [
       "<AxesSubplot:>"
      ]
     },
     "execution_count": 29,
     "metadata": {},
     "output_type": "execute_result"
    },
    {
     "data": {
      "image/png": "[encoded data removed]",
      "text/plain": [
       "<Figure size 800x500 with 1 Axes>"
      ]
     },
     "metadata": {},
     "output_type": "display_data"
    }
   ],
   "source": [
    "pd.DataFrame(history.history).plot(figsize=(8,5))"
   ]
  },
  {
   "cell_type": "code",
   "execution_count": 30,
   "id": "9e4b60c5",
   "metadata": {},
   "outputs": [],
   "source": [
    "predict_y=SNN.predict(X_test)"
   ]
  },
  {
   "cell_type": "code",
   "execution_count": 31,
   "id": "38831a97",
   "metadata": {},
   "outputs": [
    {
     "data": {
      "text/plain": [
       "array([[0.  , 0.  , 0.  , ..., 0.08, 0.  , 0.81],\n",
       "       [0.  , 0.  , 0.98, ..., 0.  , 0.  , 0.  ],\n",
       "       [0.  , 1.  , 0.  , ..., 0.  , 0.  , 0.  ],\n",
       "       ...,\n",
       "       [0.01, 0.  , 0.  , ..., 0.  , 0.97, 0.  ],\n",
       "       [0.  , 1.  , 0.  , ..., 0.  , 0.  , 0.  ],\n",
       "       [0.  , 0.  , 0.  , ..., 0.02, 0.01, 0.  ]], dtype=float32)"
      ]
     },
     "execution_count": 31,
     "metadata": {},
     "output_type": "execute_result"
    }
   ],
   "source": [
    "predict_y.round(2)"
   ]
  },
  {
   "cell_type": "code",
   "execution_count": 32,
   "id": "a52edfc0",
   "metadata": {},
   "outputs": [],
   "source": [
    "predicted_class=np.argmax(predict_y,axis=1)"
   ]
  },
  {
   "cell_type": "code",
   "execution_count": 33,
   "id": "9d5babf5",
   "metadata": {},
   "outputs": [
    {
     "data": {
      "text/plain": [
       "array([9, 2, 1, ..., 8, 1, 5], dtype=int64)"
      ]
     },
     "execution_count": 33,
     "metadata": {},
     "output_type": "execute_result"
    }
   ],
   "source": [
    "predicted_class"
   ]
  },
  {
   "cell_type": "code",
   "execution_count": 34,
   "id": "49b1e063",
   "metadata": {},
   "outputs": [
    {
     "data": {
      "text/plain": [
       "array(['ankle boot', 'pullover', 'Trouser', ..., 'bag', 'Trouser',\n",
       "       'sandal'], dtype='<U11')"
      ]
     },
     "execution_count": 34,
     "metadata": {},
     "output_type": "execute_result"
    }
   ],
   "source": [
    "np.array(class_name)[predicted_class]"
   ]
  },
  {
   "cell_type": "code",
   "execution_count": 35,
   "id": "4f07374c",
   "metadata": {},
   "outputs": [
    {
     "name": "stdout",
     "output_type": "stream",
     "text": [
      "the prediction is shirt\n"
     ]
    },
    {
     "data": {
      "image/png": "[encoded data removed]",
      "text/plain": [
       "<Figure size 640x480 with 1 Axes>"
      ]
     },
     "metadata": {},
     "output_type": "display_data"
    }
   ],
   "source": [
    "item=randrange(10000)\n",
    "plt.imshow(X_test[item], cmap='gray')\n",
    "print(\"the prediction is \"+ str(class_name[predicted_class[item]]))"
   ]
  },
  {
   "cell_type": "code",
   "execution_count": 36,
   "id": "ff7b7560",
   "metadata": {},
   "outputs": [],
   "source": [
    "from sklearn import metrics\n",
    "confusion_matrix=metrics.confusion_matrix(y_test,predicted_class)"
   ]
  },
  {
   "cell_type": "code",
   "execution_count": 37,
   "id": "26020777",
   "metadata": {},
   "outputs": [
    {
     "data": {
      "text/plain": [
       "([<matplotlib.axis.YTick at 0x1ef38d4def0>,\n",
       "  <matplotlib.axis.YTick at 0x1ef38c0ca58>,\n",
       "  <matplotlib.axis.YTick at 0x1ef38d95630>,\n",
       "  <matplotlib.axis.YTick at 0x1ef38d95438>,\n",
       "  <matplotlib.axis.YTick at 0x1ef38d9d978>,\n",
       "  <matplotlib.axis.YTick at 0x1ef38da9198>,\n",
       "  <matplotlib.axis.YTick at 0x1ef38da91d0>,\n",
       "  <matplotlib.axis.YTick at 0x1ef38da97f0>,\n",
       "  <matplotlib.axis.YTick at 0x1ef38db1278>,\n",
       "  <matplotlib.axis.YTick at 0x1ef38da9908>],\n",
       " [Text(0, 0.5, 'T-shirt/top'),\n",
       "  Text(0, 1.5, 'Trouser'),\n",
       "  Text(0, 2.5, 'pullover'),\n",
       "  Text(0, 3.5, 'dress'),\n",
       "  Text(0, 4.5, 'coat'),\n",
       "  Text(0, 5.5, 'sandal'),\n",
       "  Text(0, 6.5, 'shirt'),\n",
       "  Text(0, 7.5, 'sneaker'),\n",
       "  Text(0, 8.5, 'bag'),\n",
       "  Text(0, 9.5, 'ankle boot')])"
      ]
     },
     "execution_count": 37,
     "metadata": {},
     "output_type": "execute_result"
    },
    {
     "data": {
      "image/png": "[encoded data removed]",
      "text/plain": [
       "<Figure size 1000x1000 with 1 Axes>"
      ]
     },
     "metadata": {},
     "output_type": "display_data"
    }
   ],
   "source": [
    "import seaborn as sns\n",
    "plt.figure(figsize=(10,10))\n",
    "sns.heatmap(confusion_matrix, annot=True, fmt='d', cmap='Blues', cbar=False)\n",
    "plt.xticks(np.arange(10)+0.5,['T-shirt/top',\n",
    "              'Trouser',\n",
    "              'pullover',\n",
    "              'dress',\n",
    "             'coat',\n",
    "             'sandal',\n",
    "             'shirt',\n",
    "             'sneaker',\n",
    "             'bag',\n",
    "             'ankle boot'])\n",
    "plt.yticks(np.arange(10)+0.5,['T-shirt/top',\n",
    "              'Trouser',\n",
    "              'pullover',\n",
    "              'dress',\n",
    "             'coat',\n",
    "             'sandal',\n",
    "             'shirt',\n",
    "             'sneaker',\n",
    "             'bag',\n",
    "             'ankle boot'])"
   ]
  }
 ],
 "metadata": {
  "kernelspec": {
   "display_name": "Python 3 (ipykernel)",
   "language": "python",
   "name": "python3"
  },
  "language_info": {
   "codemirror_mode": {
    "name": "ipython",
    "version": 3
   },
   "file_extension": ".py",
   "mimetype": "text/x-python",
   "name": "python",
   "nbconvert_exporter": "python",
   "pygments_lexer": "ipython3",
   "version": "3.7.1"
  }
 },
 "nbformat": 4,
 "nbformat_minor": 5
}
